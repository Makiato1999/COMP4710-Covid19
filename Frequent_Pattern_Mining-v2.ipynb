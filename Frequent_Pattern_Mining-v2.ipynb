{
 "cells": [
  {
   "cell_type": "code",
   "execution_count": 1,
   "id": "17e90d2d",
   "metadata": {},
   "outputs": [],
   "source": [
    "import pandas as pd\n",
    "from mlxtend.frequent_patterns import apriori\n",
    "from mlxtend.frequent_patterns import fpgrowth\n",
    "from mlxtend.frequent_patterns import association_rules"
   ]
  },
  {
   "cell_type": "code",
   "execution_count": 20,
   "id": "a50572b9",
   "metadata": {},
   "outputs": [],
   "source": [
    "def apriori_algorithm(type, country, minsup , isYearly):\n",
    "    if isYearly == -1:\n",
    "        inputCSV = \"Datasets/Transaction_Datasets(\"+str(type)+\")/\"+country+\"_Monthly_Diff.csv\"\n",
    "        outputCSV = \"Frequent_Pattern_Datasets(\"+str(type)+\")/\"+country+\"_apriori_frequent_Pattern.csv\"\n",
    "        outputCSV_con = \"Frequent_Pattern_Datasets_Confidence(\"+str(type)+\")/\"+country+\"_apriori_frequent_Pattern_Confidence.csv\"\n",
    "        df = pd.read_csv(inputCSV)\n",
    "        result_df = apriori(df, min_support=minsup , use_colnames=True)\n",
    "        result_df_con = association_rules(result_df, metric=\"confidence\", min_threshold=0.7)\n",
    "        result_df.to_csv(outputCSV)\n",
    "        result_df_con.to_csv(outputCSV_con)\n",
    "    else:\n",
    "        inputCSV_2019 = \"Datasets/Transaction_Datasets(\"+str(type)+\"-yearly)/\"+country+\"_Monthly_Diff_2019.csv\"\n",
    "        inputCSV_2020 = \"Datasets/Transaction_Datasets(\"+str(type)+\"-yearly)/\"+country+\"_Monthly_Diff_2020.csv\"\n",
    "        inputCSV_2021 = \"Datasets/Transaction_Datasets(\"+str(type)+\"-yearly)/\"+country+\"_Monthly_Diff_2021.csv\"\n",
    "        inputCSV_2022 = \"Datasets/Transaction_Datasets(\"+str(type)+\"-yearly)/\"+country+\"_Monthly_Diff_2022.csv\"\n",
    "        \n",
    "        outputCSV_2019 = \"Frequent_Pattern_Datasets(\"+str(type)+\"-yearly)/\"+country+\"_apriori_frequent_Pattern_2019.csv\"\n",
    "        outputCSV_2020 = \"Frequent_Pattern_Datasets(\"+str(type)+\"-yearly)/\"+country+\"_apriori_frequent_Pattern_2020.csv\"\n",
    "        outputCSV_2021 = \"Frequent_Pattern_Datasets(\"+str(type)+\"-yearly)/\"+country+\"_apriori_frequent_Pattern_2021.csv\"\n",
    "        outputCSV_2022 = \"Frequent_Pattern_Datasets(\"+str(type)+\"-yearly)/\"+country+\"_apriori_frequent_Pattern_2022.csv\"\n",
    "        \n",
    "        outputCSV_con_2019 = \"Frequent_Pattern_Datasets(\"+str(type)+\"-yearly)/\"+country+\"_apriori_frequent_Pattern_Confidence_2019.csv\"\n",
    "        outputCSV_con_2020 = \"Frequent_Pattern_Datasets(\"+str(type)+\"-yearly)/\"+country+\"_apriori_frequent_Pattern_Confidence_2020.csv\"\n",
    "        outputCSV_con_2021 = \"Frequent_Pattern_Datasets(\"+str(type)+\"-yearly)/\"+country+\"_apriori_frequent_Pattern_Confidence_2021.csv\"\n",
    "        outputCSV_con_2022 = \"Frequent_Pattern_Datasets(\"+str(type)+\"-yearly)/\"+country+\"_apriori_frequent_Pattern_Confidence_2022.csv\"\n",
    "    \n",
    "        df_2019 = pd.read_csv(inputCSV_2019)\n",
    "        df_2020 = pd.read_csv(inputCSV_2020)\n",
    "        df_2021 = pd.read_csv(inputCSV_2021)\n",
    "        df_2022 = pd.read_csv(inputCSV_2022)\n",
    "        \n",
    "        result_df_2019 = apriori(df_2019, min_support=minsup , use_colnames=True)\n",
    "        result_df_2020 = apriori(df_2020, min_support=minsup , use_colnames=True)\n",
    "        result_df_2021 = apriori(df_2021, min_support=minsup , use_colnames=True)\n",
    "        result_df_2022 = apriori(df_2022, min_support=minsup , use_colnames=True)\n",
    "        \n",
    "        \n",
    "        result_df_con_2019 = association_rules(result_df_2019, metric=\"confidence\", min_threshold=0.7)\n",
    "        result_df_con_2020 = association_rules(result_df_2020, metric=\"confidence\", min_threshold=0.7)\n",
    "        result_df_con_2021 = association_rules(result_df_2021, metric=\"confidence\", min_threshold=0.7)\n",
    "        result_df_con_2022 = association_rules(result_df_2022, metric=\"confidence\", min_threshold=0.7)\n",
    "        \n",
    "        result_df_2019.to_csv(outputCSV_2019)\n",
    "        result_df_con_2019.to_csv(outputCSV_con_2019)\n",
    "        #display(result_df_2019)\n",
    "        \n",
    "        result_df_2020.to_csv(outputCSV_2020)\n",
    "        result_df_con_2020.to_csv(outputCSV_con_2020)\n",
    "        #result_df_2020.tail()\n",
    "        \n",
    "        result_df_2021.to_csv(outputCSV_2021)\n",
    "        result_df_con_2021.to_csv(outputCSV_con_2021)\n",
    "        \n",
    "        result_df_2022.to_csv(outputCSV_2022)\n",
    "        result_df_con_2022.to_csv(outputCSV_con_2022)\n",
    "        return result_df_2021\n"
   ]
  },
  {
   "cell_type": "markdown",
   "id": "811a8bd9",
   "metadata": {},
   "source": [
    "## set minsup"
   ]
  },
  {
   "cell_type": "code",
   "execution_count": 10,
   "id": "c01c5f91",
   "metadata": {},
   "outputs": [],
   "source": [
    "minsup = 0.34"
   ]
  },
  {
   "cell_type": "code",
   "execution_count": 22,
   "id": "22a7e78b",
   "metadata": {},
   "outputs": [
    {
     "data": {
      "text/html": [
       "<div>\n",
       "<style scoped>\n",
       "    .dataframe tbody tr th:only-of-type {\n",
       "        vertical-align: middle;\n",
       "    }\n",
       "\n",
       "    .dataframe tbody tr th {\n",
       "        vertical-align: top;\n",
       "    }\n",
       "\n",
       "    .dataframe thead th {\n",
       "        text-align: right;\n",
       "    }\n",
       "</style>\n",
       "<table border=\"1\" class=\"dataframe\">\n",
       "  <thead>\n",
       "    <tr style=\"text-align: right;\">\n",
       "      <th></th>\n",
       "      <th>support</th>\n",
       "      <th>itemsets</th>\n",
       "    </tr>\n",
       "  </thead>\n",
       "  <tbody>\n",
       "    <tr>\n",
       "      <th>162</th>\n",
       "      <td>0.416667</td>\n",
       "      <td>(people_fully_vaccinated, total_tests, canada_...</td>\n",
       "    </tr>\n",
       "    <tr>\n",
       "      <th>163</th>\n",
       "      <td>0.416667</td>\n",
       "      <td>(people_fully_vaccinated, total_tests, canada_...</td>\n",
       "    </tr>\n",
       "    <tr>\n",
       "      <th>164</th>\n",
       "      <td>0.416667</td>\n",
       "      <td>(people_fully_vaccinated, total_tests, inflati...</td>\n",
       "    </tr>\n",
       "    <tr>\n",
       "      <th>165</th>\n",
       "      <td>0.416667</td>\n",
       "      <td>(people_fully_vaccinated, total_tests, canada_...</td>\n",
       "    </tr>\n",
       "    <tr>\n",
       "      <th>166</th>\n",
       "      <td>0.416667</td>\n",
       "      <td>(people_fully_vaccinated, total_tests, canada_...</td>\n",
       "    </tr>\n",
       "  </tbody>\n",
       "</table>\n",
       "</div>"
      ],
      "text/plain": [
       "      support                                           itemsets\n",
       "162  0.416667  (people_fully_vaccinated, total_tests, canada_...\n",
       "163  0.416667  (people_fully_vaccinated, total_tests, canada_...\n",
       "164  0.416667  (people_fully_vaccinated, total_tests, inflati...\n",
       "165  0.416667  (people_fully_vaccinated, total_tests, canada_...\n",
       "166  0.416667  (people_fully_vaccinated, total_tests, canada_..."
      ]
     },
     "execution_count": 22,
     "metadata": {},
     "output_type": "execute_result"
    }
   ],
   "source": [
    "df = apriori_algorithm(2, \"SouthKorea\", minsup , 1)\n",
    "df.tail(5)"
   ]
  },
  {
   "cell_type": "code",
   "execution_count": null,
   "id": "3804a061",
   "metadata": {},
   "outputs": [],
   "source": []
  }
 ],
 "metadata": {
  "kernelspec": {
   "display_name": "Python 3 (ipykernel)",
   "language": "python",
   "name": "python3"
  },
  "language_info": {
   "codemirror_mode": {
    "name": "ipython",
    "version": 3
   },
   "file_extension": ".py",
   "mimetype": "text/x-python",
   "name": "python",
   "nbconvert_exporter": "python",
   "pygments_lexer": "ipython3",
   "version": "3.10.7"
  }
 },
 "nbformat": 4,
 "nbformat_minor": 5
}
