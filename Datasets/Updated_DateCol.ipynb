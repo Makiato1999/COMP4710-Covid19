{
 "cells": [
  {
   "cell_type": "code",
   "execution_count": 1,
   "id": "0a1d58b3-9854-4124-8f7c-1dad3d3bbe79",
   "metadata": {},
   "outputs": [],
   "source": [
    "import pandas as pd\n",
    "import datetime as dt"
   ]
  },
  {
   "cell_type": "code",
   "execution_count": 2,
   "id": "3c8331b9-1c4f-465a-a0b3-23532b8598a0",
   "metadata": {},
   "outputs": [],
   "source": [
    "def insertDate(country):\n",
    "    input =  'Merged_Datasets/'+country+'_Monthly.csv'\n",
    "    df = pd.read_csv(input)\n",
    "    df['Date'] = pd.to_datetime(df[['Year', 'Month']].assign(DAY=1))\n",
    "    df['Date'] = df['Date'].apply(lambda x: x.strftime('%Y-%m'))\n",
    "    first_column = df.pop('Date')\n",
    "    df.insert(0, 'Date', first_column)\n",
    "    del df['Year']\n",
    "    del df['Month']\n",
    "    output = 'Merged_Datasets(date)/'+country+'_Monthly.csv'\n",
    "    df.to_csv(output, index=False)\n"
   ]
  },
  {
   "cell_type": "code",
   "execution_count": 3,
   "id": "f408e7d3-bc91-4293-a55e-4feef49be7ae",
   "metadata": {},
   "outputs": [],
   "source": [
    "insertDate('France')\n",
    "insertDate('India')\n",
    "insertDate('China')\n",
    "insertDate('Philippine')\n",
    "insertDate('SouthKorea')"
   ]
  },
  {
   "cell_type": "code",
   "execution_count": null,
   "id": "ed6d7d36-a846-4074-a558-6da8f363231a",
   "metadata": {},
   "outputs": [],
   "source": []
  }
 ],
 "metadata": {
  "kernelspec": {
   "display_name": "Python 3 (ipykernel)",
   "language": "python",
   "name": "python3"
  },
  "language_info": {
   "codemirror_mode": {
    "name": "ipython",
    "version": 3
   },
   "file_extension": ".py",
   "mimetype": "text/x-python",
   "name": "python",
   "nbconvert_exporter": "python",
   "pygments_lexer": "ipython3",
   "version": "3.10.7"
  }
 },
 "nbformat": 4,
 "nbformat_minor": 5
}
