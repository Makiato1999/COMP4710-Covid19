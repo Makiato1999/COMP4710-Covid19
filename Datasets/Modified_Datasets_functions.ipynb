{
 "cells": [
  {
   "cell_type": "code",
   "execution_count": 2,
   "id": "3939602f",
   "metadata": {},
   "outputs": [],
   "source": [
    "import pandas as pd\n",
    "import datetime as dt\n",
    "from pandas.tseries.offsets import MonthEnd"
   ]
  },
  {
   "cell_type": "code",
   "execution_count": 5,
   "id": "20561121",
   "metadata": {},
   "outputs": [],
   "source": [
    "def combineCovidToMonthly(countryCovidCSV , outputCSV):\n",
    "    df = pd.read_csv(countryCovidCSV)\n",
    "    df['Date'] = pd.to_datetime(df['date'])\n",
    "    df['Year'] = df['Date'].dt.year\n",
    "    df['Month'] = df['Date'].dt.month\n",
    "    df = df[df[\"Date\"] == pd.to_datetime(df['Date'], format=\"%Y%m\") + MonthEnd(0)]\n",
    "    del df['date']\n",
    "    del df['Date']\n",
    "    df.reset_index(drop=True, inplace=True)\n",
    "    df.to_csv(outputCSV , index=False)\n",
    "    return (df)\n",
    "    \n",
    "    \n",
    "chnCombine = combineCovidToMonthly(\"China/China_CovidInfo.csv\" , \"Monthly/China_CovidInfo_Monthly.csv\")\n",
    "cadCombine = combineCovidToMonthly(\"Canada/Canada_CovidInfo.csv\" , \"Monthly/Canada_CovidInfo_Monthly.csv\")\n",
    "skrCombine = combineCovidToMonthly(\"SouthKorea/SouthKorea_CovidInfo.csv\" , \"Monthly/SouthKorea_CovidInfo_Monthly.csv\")\n",
    "indCombine = combineCovidToMonthly(\"India/India_CovidInfo.csv\" , \"Monthly/India_CovidInfo_Monthly.csv\")\n",
    "fraCombine = combineCovidToMonthly(\"France/France_CovidInfo.csv\" , \"Monthly/France_CovidInfo_Monthly.csv\")\n",
    "phpCombine = combineCovidToMonthly(\"Philippines/Philippines_CovidInfo.csv\" , \"Monthly/Philippines_CovidInfo_Monthly.csv\")\n"
   ]
  },
  {
   "cell_type": "code",
   "execution_count": 4,
   "id": "010b99bc",
   "metadata": {},
   "outputs": [],
   "source": [
    "def merge_table(canada_covid_file , covid_file , canada_inflation_file , inflation_file , canada_unemployment_file , unemployment_file , output_file):\n",
    "    df_1 = pd.read_csv(canada_unemployment_file)\n",
    "    df_2 = pd.read_csv(unemployment_file)\n",
    "    #df_3 = pd.read_csv(canada_inflation_file)\n",
    "    df_4 = pd.read_csv(inflation_file)\n",
    "    df_5 = pd.read_csv(canada_covid_file)\n",
    "    df_6 = pd.read_csv(covid_file)\n",
    "\n",
    "    df_5.rename(columns = {'total_cases':'canada_total_cases'}, inplace = True)\n",
    "    df_5.rename(columns = {'total_tests':'canada_total_tests'}, inplace = True)\n",
    "    df_5.rename(columns = {'people_fully_vaccinated':'canada_people_fully_vaccinated'}, inplace = True)\n",
    "    df_5.rename(columns = {'total_deaths':'canada_total_deaths'}, inplace = True)\n",
    "    df_5.rename(columns = {'reproduction_rate':'canada_reproduction_rate'}, inplace = True)\n",
    "    \n",
    "    result_table = df_1.copy()\n",
    "\n",
    "    result_table = pd.merge(result_table, df_2,  how='outer', on=['Year' , 'Month'])    \n",
    "    #result_table = pd.merge(result_table, df_3,  how='outer', on=['Year' , 'Month'])   \n",
    "    result_table = pd.merge(result_table, df_4,  how='outer', on=['Year' , 'Month'])   \n",
    "    result_table = pd.merge(result_table, df_5,  how='outer', on=['Year' , 'Month'])   \n",
    "    result_table = pd.merge(result_table, df_6,  how='outer', on=['Year' , 'Month'])   \n",
    "\n",
    "    result_table.reset_index(drop=True, inplace=True)\n",
    "    result_table.to_csv(output_file , index=False)\n",
    "    \n",
    "merge_table(\"Monthly/Canada_CovidInfo_Monthly.csv\" , \"Monthly/France_CovidInfo_Monthly.csv\" , \"Monthly/Canada_InflationCPI_Monthly.csv\",  \"Monthly/France_InflationCPI_Monthly.csv\" , \"Monthly/Canada_UnemploymentRates_Monthly.csv\" , \"Monthly/France_UnemploymentRates_Monthly.csv\" , \"Merged_Datasets/France_Monthly.csv\")\n",
    "merge_table(\"Monthly/Canada_CovidInfo_Monthly.csv\" , \"Monthly/SouthKorea_CovidInfo_Monthly.csv\" , \"Monthly/Canada_InflationCPI_Monthly.csv\",  \"Monthly/SouthKorea_InflationCPI_Monthly.csv\" , \"Monthly/Canada_UnemploymentRates_Monthly.csv\" , \"Monthly/SouthKorea_UnemploymentRates_Monthly.csv\" , \"Merged_Datasets/SouthKorea_Monthly.csv\")\n",
    "merge_table(\"Monthly/Canada_CovidInfo_Monthly.csv\" , \"Monthly/Philippines_CovidInfo_Monthly.csv\" , \"Monthly/Canada_InflationCPI_Monthly.csv\",  \"Monthly/Philippine_InflationCPI_Monthly.csv\" , \"Monthly/Canada_UnemploymentRates_Monthly.csv\" , \"Monthly/Philippine_UnemploymentRates_Monthly.csv\" , \"Merged_Datasets/Philippine_Monthly.csv\")\n",
    "merge_table(\"Monthly/Canada_CovidInfo_Monthly.csv\" , \"Monthly/India_CovidInfo_Monthly.csv\" , \"Monthly/Canada_InflationCPI_Monthly.csv\",  \"Monthly/India_InflationCPI_Monthly.csv\" , \"Monthly/Canada_UnemploymentRates_Monthly.csv\" , \"Monthly/India_UnemploymentRates_Monthly.csv\" , \"Merged_Datasets/India_Monthly.csv\")\n",
    "merge_table(\"Monthly/Canada_CovidInfo_Monthly.csv\" , \"Monthly/China_CovidInfo_Monthly.csv\" , \"Monthly/Canada_InflationCPI_Monthly.csv\",  \"Monthly/China_InflationCPI_Monthly.csv\" , \"Monthly/Canada_UnemploymentRates_Monthly.csv\" , \"Monthly/China_UnemploymentRates_Monthly.csv\" , \"Merged_Datasets/China_Monthly.csv\")\n"
   ]
  },
  {
   "cell_type": "code",
   "execution_count": null,
   "id": "55e7fcd7",
   "metadata": {},
   "outputs": [],
   "source": []
  }
 ],
 "metadata": {
  "kernelspec": {
   "display_name": "Python 3 (ipykernel)",
   "language": "python",
   "name": "python3"
  },
  "language_info": {
   "codemirror_mode": {
    "name": "ipython",
    "version": 3
   },
   "file_extension": ".py",
   "mimetype": "text/x-python",
   "name": "python",
   "nbconvert_exporter": "python",
   "pygments_lexer": "ipython3",
   "version": "3.10.7"
  }
 },
 "nbformat": 4,
 "nbformat_minor": 5
}
