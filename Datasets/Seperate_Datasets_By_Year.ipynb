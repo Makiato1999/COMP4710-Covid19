{
 "cells": [
  {
   "cell_type": "code",
   "execution_count": 1,
   "id": "877c08b5",
   "metadata": {},
   "outputs": [],
   "source": [
    "import pandas as pd\n",
    "import datetime as dt\n",
    "from pandas.tseries.offsets import MonthEnd"
   ]
  },
  {
   "cell_type": "markdown",
   "id": "1ac48212",
   "metadata": {},
   "source": [
    "## seperate the datasets into 4 datasets by years"
   ]
  },
  {
   "cell_type": "code",
   "execution_count": 49,
   "id": "c964c7e0",
   "metadata": {},
   "outputs": [],
   "source": [
    "def seperate_datasets(type , country):\n",
    "    inputCSV = \"Transaction_Datasets(\"+str(type)+\")/\"+country+\"_Monthly_Diff.csv\"\n",
    "    outputCSV_2019 = \"Transaction_Datasets(\" + str(type) + \"-yearly)/\"+country+\"_Monthly_Diff_2019.csv\"\n",
    "    outputCSV_2020 = \"Transaction_Datasets(\" + str(type) + \"-yearly)/\"+country+\"_Monthly_Diff_2020.csv\"\n",
    "    outputCSV_2021 = \"Transaction_Datasets(\" + str(type) + \"-yearly)/\"+country+\"_Monthly_Diff_2021.csv\"\n",
    "    outputCSV_2022 = \"Transaction_Datasets(\" + str(type) + \"-yearly)/\"+country+\"_Monthly_Diff_2022.csv\"\n",
    "    \n",
    "    df = pd.read_csv(inputCSV)\n",
    "    df_1 = df.copy()\n",
    "    #del df_1[\"Unnamed: 0\"]\n",
    "    df_1 = df_1.drop(range(12,46))\n",
    "    \n",
    "    df_2 = df.copy()\n",
    "    #del df_2[\"Unnamed: 0\"]\n",
    "    df_2 = df_2.drop(range(0,12))\n",
    "    df_2 = df_2.drop(range(24,46))\n",
    "\n",
    "    df_3 = df.copy()\n",
    "    #del df_3[\"Unnamed: 0\"]\n",
    "    df_3 = df_3.drop(range(0,24))\n",
    "    df_3 = df_3.drop(range(36,46))\n",
    "\n",
    "    df_4 = df.copy()\n",
    "    #del df_4[\"Unnamed: 0\"]\n",
    "    df_4 = df_4.drop(range(0,36))\n",
    "    \n",
    "    #display(df_4)\n",
    "    df_1.to_csv(outputCSV_2019 , index=False)\n",
    "    df_2.to_csv(outputCSV_2020 , index=False)\n",
    "    df_3.to_csv(outputCSV_2021 , index=False)\n",
    "    df_4.to_csv(outputCSV_2022 , index=False)\n",
    "    "
   ]
  },
  {
   "cell_type": "code",
   "execution_count": 50,
   "id": "70a108da",
   "metadata": {},
   "outputs": [],
   "source": [
    "seperate_datasets(2, \"India\")\n",
    "seperate_datasets(2, \"China\")\n",
    "seperate_datasets(2, \"France\")\n",
    "seperate_datasets(2, \"Philippine\")\n",
    "seperate_datasets(2, \"SouthKorea\")"
   ]
  },
  {
   "cell_type": "code",
   "execution_count": 51,
   "id": "874871d4",
   "metadata": {},
   "outputs": [],
   "source": [
    "seperate_datasets(\"abs\", \"India\")\n",
    "seperate_datasets(\"abs\", \"China\")\n",
    "seperate_datasets(\"abs\", \"France\")\n",
    "seperate_datasets(\"abs\", \"Philippine\")\n",
    "seperate_datasets(\"abs\", \"SouthKorea\")"
   ]
  },
  {
   "cell_type": "code",
   "execution_count": null,
   "id": "19f9feb2",
   "metadata": {},
   "outputs": [],
   "source": []
  }
 ],
 "metadata": {
  "kernelspec": {
   "display_name": "Python 3 (ipykernel)",
   "language": "python",
   "name": "python3"
  },
  "language_info": {
   "codemirror_mode": {
    "name": "ipython",
    "version": 3
   },
   "file_extension": ".py",
   "mimetype": "text/x-python",
   "name": "python",
   "nbconvert_exporter": "python",
   "pygments_lexer": "ipython3",
   "version": "3.10.7"
  }
 },
 "nbformat": 4,
 "nbformat_minor": 5
}
