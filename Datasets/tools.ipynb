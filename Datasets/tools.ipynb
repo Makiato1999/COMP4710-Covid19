{
 "cells": [
  {
   "cell_type": "code",
   "execution_count": 159,
   "id": "90e56e39-3dee-4829-ba98-b5d0033a6b81",
   "metadata": {},
   "outputs": [],
   "source": [
    "import pandas as pd"
   ]
  },
  {
   "cell_type": "code",
   "execution_count": 160,
   "id": "6d6f68f0-2f7d-46d1-b4af-1fdc9bccadcb",
   "metadata": {},
   "outputs": [],
   "source": [
    "def covid_cases(row_name, output):\n",
    "    df = pd.read_csv(\"owid-covid-data.csv\")\n",
    "    df.set_index(\"location\", inplace=True)\n",
    "    df = df.loc[row_name]\n",
    "    df.to_csv(output)\n",
    "    \n",
    "def inflation_rate(inflation_list, output):\n",
    "    df = pd.DataFrame()\n",
    "    dates = pd.date_range(start='01/2019', end='10/2022', freq='M')\n",
    "    df[\"date\"] = dates\n",
    "    df[\"inflation rate\"] = inflation_list\n",
    "    df.reset_index(drop=True, inplace=True)\n",
    "    df.to_csv(output,index=False)"
   ]
  },
  {
   "cell_type": "code",
   "execution_count": 161,
   "id": "9632390f-e4d2-4e5f-aa93-43ecc5049952",
   "metadata": {},
   "outputs": [],
   "source": [
    "def covid_info(country, output):\n",
    "    df = pd.read_csv(\"owid-covid-data.csv\")\n",
    "    df.set_index(\"location\", inplace=True)\n",
    "    df = df.loc[country]\n",
    "    new_df = pd.DataFrame()\n",
    "    new_df = df[[\"date\",\"total_cases\",\"total_tests\",\"people_fully_vaccinated\",\"total_deaths\",\"reproduction_rate\"]]\n",
    "    new_df.reset_index(drop=True, inplace=True)\n",
    "    new_df.to_csv(output, index=False)\n",
    "    "
   ]
  },
  {
   "cell_type": "markdown",
   "id": "5987dce3-945f-4851-80f2-fced5734d592",
   "metadata": {},
   "source": [
    "## France "
   ]
  },
  {
   "cell_type": "code",
   "execution_count": 162,
   "id": "0ec497e1-3901-446a-a872-0a0a173a0d26",
   "metadata": {},
   "outputs": [],
   "source": [
    "#covid_cases(\"France\", \"France_CovidCases.csv\")\n",
    "covid_info(\"France\", \"France_CovidInfo.csv\")"
   ]
  },
  {
   "cell_type": "code",
   "execution_count": 163,
   "id": "50fa2936-634c-42f7-9da6-1966331cabc3",
   "metadata": {},
   "outputs": [],
   "source": [
    "inflation_list = [1.24,1.32,1.11,1.26,0.94,1.17,1.07,1.04,0.91,0.76,1.03,1.46,\n",
    "                  1.49,1.43,0.67,0.33,0.36,0.20,0.78,0.22,0.05,0.05,0.20,-0.02,\n",
    "                  0.55,0.56,1.11,1.24,1.42,1.48,1.15,1.87,2.16,2.62,2.78,2.75,\n",
    "                  2.85,3.63,4.48,4.83,5.20,5.84,6.08,5.91,5.55]\n",
    "inflation_rate(inflation_list, \"France_InflationRate.csv\")"
   ]
  },
  {
   "cell_type": "markdown",
   "id": "472666e3-e645-48dd-b26d-637c094c8cfc",
   "metadata": {},
   "source": [
    "## India"
   ]
  },
  {
   "cell_type": "code",
   "execution_count": 164,
   "id": "e7f48723-3263-4e2b-8567-ac3dc3188a40",
   "metadata": {},
   "outputs": [],
   "source": [
    "#covid_cases(\"India\", \"India_CovidCases.csv\")\n",
    "covid_info(\"India\", \"India_CovidInfo.csv\")"
   ]
  },
  {
   "cell_type": "code",
   "execution_count": 165,
   "id": "d468518e-3235-4035-8d13-0cb788c8dc80",
   "metadata": {},
   "outputs": [],
   "source": [
    "inflation_list = [2.0,2.6,2.9,3.0,3.0,3.2,3.1,3.3,4.0,4.6,5.5,7.4,\n",
    "                  7.6,6.6,5.8,7.2,6.3,6.2,6.7,6.7,7.3,7.6,6.9,4.6,\n",
    "                  4.1,5.0,5.5,4.2,6.3,6.3,5.6,5.3,4.3,4.5,4.9,5.7,\n",
    "                  6.0,6.1,7.0,7.8,7.0,7.0,6.7,7.0,7.4]\n",
    "inflation_rate(inflation_list, \"India_InflationRate.csv\")"
   ]
  },
  {
   "cell_type": "markdown",
   "id": "a63532f4-246b-407d-ade8-7eabb655ca22",
   "metadata": {},
   "source": [
    "## SouthKorea"
   ]
  },
  {
   "cell_type": "code",
   "execution_count": 166,
   "id": "dc01cf49-f86e-4bfb-afba-b6967ebcf642",
   "metadata": {},
   "outputs": [],
   "source": [
    "#covid_cases(\"South Korea\", \"SouthKorea_CovidCases.csv\")\n",
    "covid_info(\"South Korea\", \"SouthKorea_CovidInfo.csv\")"
   ]
  },
  {
   "cell_type": "code",
   "execution_count": 167,
   "id": "698a67b7-e11a-4845-8505-4969c595bd1c",
   "metadata": {},
   "outputs": [],
   "source": [
    "inflation_list = [0.79,0.46,0.37,0.56,0.68,0.72,0.61,-0.04,-0.43,0.00,0.15,0.74,\n",
    "                  1.22,0.85,0.83,0.02,-0.21,0.22,0.45,0.77,0.95,0.14,0.61,0.61,\n",
    "                  0.95,1.42,1.90,2.49,2.62,2.35,2.64,2.56,2.41,3.16,3.78,3.70,\n",
    "                  3.61,3.66,4.14,4.78,5.40,6.05,6.34,5.71,5.58]\n",
    "inflation_rate(inflation_list, \"SouthKorea_InflationRate.csv\")"
   ]
  },
  {
   "cell_type": "markdown",
   "id": "71b2319b-63e3-43c3-b272-469455c54d22",
   "metadata": {},
   "source": [
    "## Canada"
   ]
  },
  {
   "cell_type": "code",
   "execution_count": 168,
   "id": "02f6c41b-a7d0-43bf-9b72-b8f9d434757e",
   "metadata": {},
   "outputs": [],
   "source": [
    "#covid_cases(\"Canada\", \"Canada_CovidCases.csv\")\n",
    "covid_info(\"Canada\", \"Canada_CovidInfo.csv\")"
   ]
  },
  {
   "cell_type": "code",
   "execution_count": 169,
   "id": "afeb97b2-0720-4c6d-9529-fc3b24ded62c",
   "metadata": {},
   "outputs": [],
   "source": [
    "inflation_list = [1.4,1.5,1.9,2.0,2.4,2.0,2.0,1.9,1.9,1.9,2.2,2.2,\n",
    "                 2.4,2.2,0.9,-0.2,-0.4,0.7,0.1,0.1,0.5,0.7,1.0,0.7,\n",
    "                 1.0,1.1,2.2,3.4,3.6,3.1,3.7,4.1,4.4,4.7,4.7,4.8,\n",
    "                 5.1,5.7,6.7,6.8,7.7,8.1,7.6,7.0,6.9]\n",
    "inflation_rate(inflation_list, \"Canada_InflationRate.csv\")"
   ]
  },
  {
   "cell_type": "markdown",
   "id": "17e8e060-ef6d-4552-a225-76973d1793b5",
   "metadata": {},
   "source": [
    "## China"
   ]
  },
  {
   "cell_type": "code",
   "execution_count": 170,
   "id": "61602425-2198-43bf-b7c7-6c2e3ffc829d",
   "metadata": {},
   "outputs": [],
   "source": [
    "covid_info(\"China\", \"China_CovidInfo.csv\")"
   ]
  },
  {
   "cell_type": "markdown",
   "id": "0bd39783-3673-4804-9fe7-02517e1fcce9",
   "metadata": {},
   "source": [
    "## Philippines"
   ]
  },
  {
   "cell_type": "code",
   "execution_count": 171,
   "id": "4625a568-3995-4825-820c-25c8abdcecbb",
   "metadata": {},
   "outputs": [],
   "source": [
    "covid_info(\"Philippines\", \"Philippines_CovidInfo.csv\")"
   ]
  }
 ],
 "metadata": {
  "kernelspec": {
   "display_name": "Python 3 (ipykernel)",
   "language": "python",
   "name": "python3"
  },
  "language_info": {
   "codemirror_mode": {
    "name": "ipython",
    "version": 3
   },
   "file_extension": ".py",
   "mimetype": "text/x-python",
   "name": "python",
   "nbconvert_exporter": "python",
   "pygments_lexer": "ipython3",
   "version": "3.8.14"
  }
 },
 "nbformat": 4,
 "nbformat_minor": 5
}
