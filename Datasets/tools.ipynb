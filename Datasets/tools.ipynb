{
 "cells": [
  {
   "cell_type": "code",
   "execution_count": 49,
   "id": "90e56e39-3dee-4829-ba98-b5d0033a6b81",
   "metadata": {},
   "outputs": [],
   "source": [
    "import pandas as pd"
   ]
  },
  {
   "cell_type": "code",
   "execution_count": 68,
   "id": "6d6f68f0-2f7d-46d1-b4af-1fdc9bccadcb",
   "metadata": {},
   "outputs": [],
   "source": [
    "def covid_cases(row_name, output):\n",
    "    df = pd.read_csv(\"owid-covid-data.csv\")\n",
    "    df.set_index(\"location\", inplace=True)\n",
    "    df = df.loc[row_name]\n",
    "    df.to_csv(output)\n",
    "    \n",
    "def inflation_rate(inflation_list, output):\n",
    "    df = pd.DataFrame()\n",
    "    dates = pd.date_range(start='01/2019', end='10/2022', freq='M')\n",
    "    df[\"date\"] = dates\n",
    "    df[\"inflation rate\"] = inflation_list\n",
    "    df.to_csv(output)"
   ]
  },
  {
   "cell_type": "markdown",
   "id": "5987dce3-945f-4851-80f2-fced5734d592",
   "metadata": {},
   "source": [
    "## France "
   ]
  },
  {
   "cell_type": "code",
   "execution_count": 69,
   "id": "0ec497e1-3901-446a-a872-0a0a173a0d26",
   "metadata": {},
   "outputs": [],
   "source": [
    "covid_cases(\"France\", \"France_CovidCases.csv\")"
   ]
  },
  {
   "cell_type": "code",
   "execution_count": 70,
   "id": "50fa2936-634c-42f7-9da6-1966331cabc3",
   "metadata": {},
   "outputs": [],
   "source": [
    "inflation_list = [1.24,1.32,1.11,1.26,0.94,1.17,1.07,1.04,0.91,0.76,1.03,1.46,\n",
    "                  1.49,1.43,0.67,0.33,0.36,0.20,0.78,0.22,0.05,0.05,0.20,-0.02,\n",
    "                  0.55,0.56,1.11,1.24,1.42,1.48,1.15,1.87,2.16,2.62,2.78,2.75,\n",
    "                  2.85,3.63,4.48,4.83,5.20,5.84,6.08,5.91,5.55]\n",
    "inflation_rate(inflation_list, \"France_InflationRate.csv\")"
   ]
  },
  {
   "cell_type": "markdown",
   "id": "472666e3-e645-48dd-b26d-637c094c8cfc",
   "metadata": {},
   "source": [
    "## India"
   ]
  },
  {
   "cell_type": "code",
   "execution_count": 71,
   "id": "e7f48723-3263-4e2b-8567-ac3dc3188a40",
   "metadata": {},
   "outputs": [],
   "source": [
    "covid_cases(\"India\", \"India_CovidCases.csv\")"
   ]
  },
  {
   "cell_type": "code",
   "execution_count": 72,
   "id": "d468518e-3235-4035-8d13-0cb788c8dc80",
   "metadata": {},
   "outputs": [],
   "source": [
    "inflation_list = [2.0,2.6,2.9,3.0,3.0,3.2,3.1,3.3,4.0,4.6,5.5,7.4,\n",
    "                  7.6,6.6,5.8,7.2,6.3,6.2,6.7,6.7,7.3,7.6,6.9,4.6,\n",
    "                  4.1,5.0,5.5,4.2,6.3,6.3,5.6,5.3,4.3,4.5,4.9,5.7,\n",
    "                  6.0,6.1,7.0,7.8,7.0,7.0,6.7,7.0,7.4]\n",
    "inflation_rate(inflation_list, \"India_InflationRate.csv\")"
   ]
  },
  {
   "cell_type": "markdown",
   "id": "a63532f4-246b-407d-ade8-7eabb655ca22",
   "metadata": {},
   "source": [
    "## SouthKorea"
   ]
  },
  {
   "cell_type": "code",
   "execution_count": 75,
   "id": "dc01cf49-f86e-4bfb-afba-b6967ebcf642",
   "metadata": {},
   "outputs": [],
   "source": [
    "covid_cases(\"South Korea\", \"SouthKorea_CovidCases.csv\")"
   ]
  },
  {
   "cell_type": "code",
   "execution_count": 76,
   "id": "698a67b7-e11a-4845-8505-4969c595bd1c",
   "metadata": {},
   "outputs": [],
   "source": [
    "inflation_list = [0.79,0.46,0.37,0.56,0.68,0.72,0.61,-0.04,-0.43,0.00,0.15,0.74,\n",
    "                  1.22,0.85,0.83,0.02,-0.21,0.22,0.45,0.77,0.95,0.14,0.61,0.61,\n",
    "                  0.95,1.42,1.90,2.49,2.62,2.35,2.64,2.56,2.41,3.16,3.78,3.70,\n",
    "                  3.61,3.66,4.14,4.78,5.40,6.05,6.34,5.71,5.58]\n",
    "inflation_rate(inflation_list, \"SouthKorea_InflationRate.csv\")"
   ]
  },
  {
   "cell_type": "code",
   "execution_count": null,
   "id": "cf42aa26-c2c0-471f-a2c0-75d1b551f38c",
   "metadata": {},
   "outputs": [],
   "source": []
  }
 ],
 "metadata": {
  "kernelspec": {
   "display_name": "Python 3 (ipykernel)",
   "language": "python",
   "name": "python3"
  },
  "language_info": {
   "codemirror_mode": {
    "name": "ipython",
    "version": 3
   },
   "file_extension": ".py",
   "mimetype": "text/x-python",
   "name": "python",
   "nbconvert_exporter": "python",
   "pygments_lexer": "ipython3",
   "version": "3.8.14"
  }
 },
 "nbformat": 4,
 "nbformat_minor": 5
}
