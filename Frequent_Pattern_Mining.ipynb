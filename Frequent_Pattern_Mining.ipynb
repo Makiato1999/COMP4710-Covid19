{
 "cells": [
  {
   "cell_type": "code",
   "execution_count": 2,
   "id": "c4878bd8",
   "metadata": {},
   "outputs": [],
   "source": [
    "import pandas as pd\n",
    "from mlxtend.frequent_patterns import apriori\n",
    "from mlxtend.frequent_patterns import fpgrowth"
   ]
  },
  {
   "cell_type": "code",
   "execution_count": 10,
   "id": "c1045bc1",
   "metadata": {},
   "outputs": [],
   "source": [
    "def apriori_algorithm(inputCSV , outputCSV):\n",
    "    df = pd.read_csv(inputCSV)\n",
    "    result_df = apriori(df, min_support=0.5)\n",
    "    #display(result_df)\n",
    "    result_df.to_csv(outputCSV)\n",
    "    \n",
    "apriori_algorithm(\"Datasets/Transaction_Datasets/India_Monthly_Diff.csv\" , \"Frequent_Pattern_Datasets/India_apriori_frequent_Pattern.csv\")\n",
    "apriori_algorithm(\"Datasets/Transaction_Datasets/China_Monthly_Diff.csv\" , \"Frequent_Pattern_Datasets/China_apriori_frequent_Pattern.csv\")\n",
    "apriori_algorithm(\"Datasets/Transaction_Datasets/France_Monthly_Diff.csv\" , \"Frequent_Pattern_Datasets/France_apriori_frequent_Pattern.csv\")\n",
    "apriori_algorithm(\"Datasets/Transaction_Datasets/Philippine_Monthly_Diff.csv\" , \"Frequent_Pattern_Datasets/Philippine_apriori_frequent_Pattern.csv\")\n",
    "apriori_algorithm(\"Datasets/Transaction_Datasets/SouthKorea_Monthly_Diff.csv\" , \"Frequent_Pattern_Datasets/SouthKorea_apriori_frequent_Pattern.csv\")"
   ]
  },
  {
   "cell_type": "code",
   "execution_count": 11,
   "id": "1e9a35b0",
   "metadata": {},
   "outputs": [],
   "source": [
    "def fp_growth_algorithm(inputCSV , outputCSV):\n",
    "    df = pd.read_csv(inputCSV)\n",
    "    result_df = fpgrowth(df, min_support=0.5)\n",
    "    #display(result_df)\n",
    "    result_df.to_csv(outputCSV)\n",
    "    \n",
    "fp_growth_algorithm(\"Datasets/Transaction_Datasets/India_Monthly_Diff.csv\", \"Frequent_Pattern_Datasets/India_fp-growth_frequent_Pattern.csv\")\n",
    "fp_growth_algorithm(\"Datasets/Transaction_Datasets/China_Monthly_Diff.csv\" , \"Frequent_Pattern_Datasets/China_fp-growth_frequent_Pattern.csv\")\n",
    "fp_growth_algorithm(\"Datasets/Transaction_Datasets/France_Monthly_Diff.csv\" , \"Frequent_Pattern_Datasets/France_fp-growth_frequent_Pattern.csv\")\n",
    "fp_growth_algorithm(\"Datasets/Transaction_Datasets/Philippine_Monthly_Diff.csv\" , \"Frequent_Pattern_Datasets/Philippine_fp-growth_frequent_Pattern.csv\")\n",
    "fp_growth_algorithm(\"Datasets/Transaction_Datasets/SouthKorea_Monthly_Diff.csv\" , \"Frequent_Pattern_Datasets/SouthKorea_fp-growth_frequent_Pattern.csv\")"
   ]
  },
  {
   "cell_type": "code",
   "execution_count": null,
   "id": "30577ace",
   "metadata": {},
   "outputs": [],
   "source": []
  }
 ],
 "metadata": {
  "kernelspec": {
   "display_name": "Python 3 (ipykernel)",
   "language": "python",
   "name": "python3"
  },
  "language_info": {
   "codemirror_mode": {
    "name": "ipython",
    "version": 3
   },
   "file_extension": ".py",
   "mimetype": "text/x-python",
   "name": "python",
   "nbconvert_exporter": "python",
   "pygments_lexer": "ipython3",
   "version": "3.10.7"
  }
 },
 "nbformat": 4,
 "nbformat_minor": 5
}
