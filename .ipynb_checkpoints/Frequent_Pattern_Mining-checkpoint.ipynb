{
 "cells": [
  {
   "cell_type": "code",
   "execution_count": 63,
   "id": "c4878bd8",
   "metadata": {},
   "outputs": [],
   "source": [
    "import pandas as pd\n",
    "from mlxtend.frequent_patterns import apriori\n",
    "from mlxtend.frequent_patterns import fpgrowth"
   ]
  },
  {
   "cell_type": "code",
   "execution_count": 64,
   "id": "27160d0f-a972-4c71-80da-115be730c1c1",
   "metadata": {},
   "outputs": [],
   "source": [
    "def apriori_algorithm(type, country, minsup):\n",
    "    inputCSV = \"Datasets/Transaction_Datasets(\"+str(type)+\")/\"+country+\"_Monthly_Diff.csv\"\n",
    "    outputCSV = \"Frequent_Pattern_Datasets(\"+str(type)+\")/\"+country+\"_apriori_frequent_Pattern.csv\"\n",
    "    df = pd.read_csv(inputCSV)\n",
    "    result_df = apriori(df, min_support=minsup)\n",
    "    #display(result_df)\n",
    "    result_df.to_csv(outputCSV)\n",
    "\n",
    "def fp_growth_algorithm(type, country, minsup):\n",
    "    inputCSV = \"Datasets/Transaction_Datasets(\"+str(type)+\")/\"+country+\"_Monthly_Diff.csv\"\n",
    "    outputCSV = \"Frequent_Pattern_Datasets(\"+str(type)+\")/\"+country+\"_fp-growth_frequent_Pattern.csv\"\n",
    "    df = pd.read_csv(inputCSV)\n",
    "    result_df = fpgrowth(df, min_support=minsup)\n",
    "    #display(result_df)\n",
    "    result_df.to_csv(outputCSV)"
   ]
  },
  {
   "cell_type": "markdown",
   "id": "c97daa77-5cc5-48e3-b67a-a5dfbbcc85ed",
   "metadata": {},
   "source": [
    "## set minsup"
   ]
  },
  {
   "cell_type": "code",
   "execution_count": 65,
   "id": "4ea098a3-77fa-40a9-8e1c-81a317dc050c",
   "metadata": {},
   "outputs": [],
   "source": [
    "minsup = 0.34"
   ]
  },
  {
   "cell_type": "markdown",
   "id": "3003bd0c-8387-441c-899d-279e22d06f43",
   "metadata": {},
   "source": [
    "## when X > 0.1, minsup = 0.34\n",
    "output file in __Frequent_Pattern_Datasets(2)__"
   ]
  },
  {
   "cell_type": "code",
   "execution_count": 66,
   "id": "c1045bc1",
   "metadata": {},
   "outputs": [],
   "source": [
    "apriori_algorithm(2, \"India\", minsup)\n",
    "apriori_algorithm(2, \"China\", minsup)\n",
    "apriori_algorithm(2, \"France\", minsup)\n",
    "apriori_algorithm(2, \"Philippine\", minsup)\n",
    "apriori_algorithm(2, \"SouthKorea\", minsup)\n",
    "#apriori_algorithm(\"Datasets/Transaction_Datasets(2)/India_Monthly_Diff.csv\" , \"Frequent_Pattern_Datasets(2)/India_apriori_frequent_Pattern.csv\")\n",
    "#apriori_algorithm(\"Datasets/Transaction_Datasets(2)/China_Monthly_Diff.csv\" , \"Frequent_Pattern_Datasets(2)/China_apriori_frequent_Pattern.csv\")\n",
    "#apriori_algorithm(\"Datasets/Transaction_Datasets(2)/France_Monthly_Diff.csv\" , \"Frequent_Pattern_Datasets(2)/France_apriori_frequent_Pattern.csv\")\n",
    "#apriori_algorithm(\"Datasets/Transaction_Datasets(2)/Philippine_Monthly_Diff.csv\" , \"Frequent_Pattern_Datasets(2)/Philippine_apriori_frequent_Pattern.csv\")\n",
    "#apriori_algorithm(\"Datasets/Transaction_Datasets(2)/SouthKorea_Monthly_Diff.csv\" , \"Frequent_Pattern_Datasets(2)/SouthKorea_apriori_frequent_Pattern.csv\")"
   ]
  },
  {
   "cell_type": "code",
   "execution_count": 67,
   "id": "1e9a35b0",
   "metadata": {},
   "outputs": [],
   "source": [
    "fp_growth_algorithm(2, \"India\", minsup)\n",
    "fp_growth_algorithm(2, \"China\", minsup)\n",
    "fp_growth_algorithm(2, \"France\", minsup)\n",
    "fp_growth_algorithm(2, \"Philippine\", minsup)\n",
    "fp_growth_algorithm(2, \"SouthKorea\", minsup)\n",
    "#fp_growth_algorithm(\"Datasets/Transaction_Datasets(2)/India_Monthly_Diff.csv\", \"Frequent_Pattern_Datasets(2)/India_fp-growth_frequent_Pattern.csv\")\n",
    "#fp_growth_algorithm(\"Datasets/Transaction_Datasets(2)/China_Monthly_Diff.csv\" , \"Frequent_Pattern_Datasets(2)/China_fp-growth_frequent_Pattern.csv\")\n",
    "#fp_growth_algorithm(\"Datasets/Transaction_Datasets(2)/France_Monthly_Diff.csv\" , \"Frequent_Pattern_Datasets(2)/France_fp-growth_frequent_Pattern.csv\")\n",
    "#fp_growth_algorithm(\"Datasets/Transaction_Datasets(2)/Philippine_Monthly_Diff.csv\" , \"Frequent_Pattern_Datasets(2)/Philippine_fp-growth_frequent_Pattern.csv\")\n",
    "#fp_growth_algorithm(\"Datasets/Transaction_Datasets(2)/SouthKorea_Monthly_Diff.csv\" , \"Frequent_Pattern_Datasets(2)/SouthKorea_fp-growth_frequent_Pattern.csv\")"
   ]
  },
  {
   "cell_type": "markdown",
   "id": "e10da416-5e77-4e78-9f79-219f0952e057",
   "metadata": {},
   "source": [
    "## when -0.1 < X < 0.1, minsup = 0.34\n",
    "output file in __Frequent_Pattern_Datasets(abs)__"
   ]
  },
  {
   "cell_type": "code",
   "execution_count": 68,
   "id": "010cba5b-3bc6-4958-bf0d-47dc66b409de",
   "metadata": {},
   "outputs": [],
   "source": [
    "apriori_algorithm(\"abs\", \"India\", minsup)\n",
    "apriori_algorithm(\"abs\", \"China\", minsup)\n",
    "apriori_algorithm(\"abs\", \"France\", minsup)\n",
    "apriori_algorithm(\"abs\", \"Philippine\", minsup)\n",
    "apriori_algorithm(\"abs\", \"SouthKorea\", minsup)"
   ]
  },
  {
   "cell_type": "code",
   "execution_count": 69,
   "id": "4addfc48-e2fe-4499-b108-2822ce9139df",
   "metadata": {},
   "outputs": [],
   "source": [
    "fp_growth_algorithm(\"abs\", \"India\", minsup)\n",
    "fp_growth_algorithm(\"abs\", \"China\", minsup)\n",
    "fp_growth_algorithm(\"abs\", \"France\", minsup)\n",
    "fp_growth_algorithm(\"abs\", \"Philippine\", minsup)\n",
    "fp_growth_algorithm(\"abs\", \"SouthKorea\", minsup)"
   ]
  },
  {
   "cell_type": "code",
   "execution_count": null,
   "id": "5c1bbef0-f343-41b4-94e0-508bcc3a5189",
   "metadata": {},
   "outputs": [],
   "source": []
  }
 ],
 "metadata": {
  "kernelspec": {
   "display_name": "Python 3 (ipykernel)",
   "language": "python",
   "name": "python3"
  },
  "language_info": {
   "codemirror_mode": {
    "name": "ipython",
    "version": 3
   },
   "file_extension": ".py",
   "mimetype": "text/x-python",
   "name": "python",
   "nbconvert_exporter": "python",
   "pygments_lexer": "ipython3",
   "version": "3.8.14"
  }
 },
 "nbformat": 4,
 "nbformat_minor": 5
}
