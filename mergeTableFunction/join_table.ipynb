{
 "cells": [
  {
   "cell_type": "markdown",
   "id": "653171f1",
   "metadata": {},
   "source": [
    "Import required package"
   ]
  },
  {
   "cell_type": "code",
   "execution_count": 1,
   "id": "60d7b2a6",
   "metadata": {},
   "outputs": [],
   "source": [
    "import pandas as pd\n",
    "import datetime as dt"
   ]
  },
  {
   "cell_type": "markdown",
   "id": "c4e74136",
   "metadata": {},
   "source": [
    "read in all neccessary data file"
   ]
  },
  {
   "cell_type": "code",
   "execution_count": 2,
   "id": "0de7f1b4",
   "metadata": {},
   "outputs": [],
   "source": [
    "covid_cases_IND = pd.read_csv(\"modified_datasets/India-New Covid Cases Monthly.csv\")\n",
    "unemploy_rate_IND = pd.read_csv(\"modified_datasets/India_unemployment_rate.csv\")\n",
    "inflation_rate_IND = pd.read_csv(\"modified_datasets/india-inflationRate.csv\")"
   ]
  },
  {
   "cell_type": "markdown",
   "id": "f3392c7a",
   "metadata": {},
   "source": [
    "convert the date to datetype format so we can read the date using pandas' library"
   ]
  },
  {
   "cell_type": "code",
   "execution_count": 3,
   "id": "e04fb0ac",
   "metadata": {},
   "outputs": [],
   "source": [
    "covid_cases_IND['Date'] = pd.to_datetime(covid_cases_IND['Date'])\n",
    "unemploy_rate_IND['Date'] = pd.to_datetime(unemploy_rate_IND['Date'])\n",
    "inflation_rate_IND['Date'] = pd.to_datetime(inflation_rate_IND['Date'])"
   ]
  },
  {
   "cell_type": "markdown",
   "id": "c3f15fe9",
   "metadata": {},
   "source": [
    "create new columns ['Year' , 'Month'] for tables"
   ]
  },
  {
   "cell_type": "code",
   "execution_count": 4,
   "id": "db37c135",
   "metadata": {},
   "outputs": [],
   "source": [
    "covid_cases_IND['Year'] = covid_cases_IND['Date'].dt.year\n",
    "covid_cases_IND['Month'] = covid_cases_IND['Date'].dt.month\n",
    "\n",
    "unemploy_rate_IND['Year'] = unemploy_rate_IND['Date'].dt.year\n",
    "unemploy_rate_IND['Month'] = unemploy_rate_IND['Date'].dt.month\n",
    "\n",
    "inflation_rate_IND['Year'] = inflation_rate_IND['Date'].dt.year\n",
    "inflation_rate_IND['Month'] = inflation_rate_IND['Date'].dt.month"
   ]
  },
  {
   "cell_type": "markdown",
   "id": "58fbbcb7",
   "metadata": {},
   "source": [
    "delete the old Date column"
   ]
  },
  {
   "cell_type": "code",
   "execution_count": 5,
   "id": "18c7b6e4",
   "metadata": {},
   "outputs": [],
   "source": [
    "del covid_cases_IND['Date']\n",
    "del unemploy_rate_IND['Date']\n",
    "del inflation_rate_IND['Date']"
   ]
  },
  {
   "cell_type": "markdown",
   "id": "35f728cf",
   "metadata": {},
   "source": [
    "Reorder the columns in tables to ['Year' , 'Month' , 'Data']"
   ]
  },
  {
   "cell_type": "code",
   "execution_count": 6,
   "id": "199e4d80",
   "metadata": {},
   "outputs": [],
   "source": [
    "covid_cases_IND = covid_cases_IND.reindex(columns=['Year' , 'Month' , 'Covid cases'])\n",
    "unemploy_rate_IND = unemploy_rate_IND.reindex(columns=['Year' , 'Month' , 'Unemployment rate'])\n",
    "inflation_rate_IND = inflation_rate_IND.reindex(columns=['Year' , 'Month' , 'Inflation rate'])"
   ]
  },
  {
   "cell_type": "markdown",
   "id": "f1b424b0",
   "metadata": {},
   "source": [
    "- function : merge multiple tables' column into one table\n",
    "- parameters : unemployment file , inflation file , covid cases file\n",
    "- return : a merged table"
   ]
  },
  {
   "cell_type": "code",
   "execution_count": 7,
   "id": "c7317971",
   "metadata": {},
   "outputs": [],
   "source": [
    "def merge_table(unemploy_file , inflation_file , covid_file):\n",
    "    result_table = unemploy_file.copy()\n",
    "    result_table = pd.merge(result_table, inflation_file,  how='left', left_on=['Year' , 'Month'], right_on = ['Year' , 'Month'])\n",
    "    result_table = pd.merge(result_table, covid_file,  how='left', left_on=['Year' , 'Month'], right_on = ['Year' , 'Month'])\n",
    "    return result_table"
   ]
  },
  {
   "cell_type": "code",
   "execution_count": 8,
   "id": "d1ceca54",
   "metadata": {},
   "outputs": [],
   "source": [
    "merged_table_IND = merge_table(unemploy_rate_IND , inflation_rate_IND , covid_cases_IND)"
   ]
  },
  {
   "cell_type": "markdown",
   "id": "51522f8b",
   "metadata": {},
   "source": [
    "Export the merged table to a csv file"
   ]
  },
  {
   "cell_type": "code",
   "execution_count": 10,
   "id": "ffe71a45",
   "metadata": {},
   "outputs": [],
   "source": [
    "merged_table_IND.to_csv('merged_datasets/India_data.csv')"
   ]
  },
  {
   "cell_type": "code",
   "execution_count": null,
   "id": "7a8ead39",
   "metadata": {},
   "outputs": [],
   "source": []
  }
 ],
 "metadata": {
  "kernelspec": {
   "display_name": "Python 3 (ipykernel)",
   "language": "python",
   "name": "python3"
  },
  "language_info": {
   "codemirror_mode": {
    "name": "ipython",
    "version": 3
   },
   "file_extension": ".py",
   "mimetype": "text/x-python",
   "name": "python",
   "nbconvert_exporter": "python",
   "pygments_lexer": "ipython3",
   "version": "3.10.7"
  }
 },
 "nbformat": 4,
 "nbformat_minor": 5
}
